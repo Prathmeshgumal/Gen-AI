{
 "cells": [
  {
   "cell_type": "markdown",
   "id": "afbd21a6",
   "metadata": {},
   "source": [
    "## Stemming\n",
    "Stemming is the proess of reducing a word to its base word or the root form that affixes or suffixes and prefixes or the roots of words known as lemma it's important in NLU(NLU standas for Natural language understanding) and NLP "
   ]
  },
  {
   "cell_type": "code",
   "execution_count": 11,
   "id": "86f5f67d",
   "metadata": {},
   "outputs": [],
   "source": [
    "words = [\"eating\",\"eats\",\"eaten\",\"writing\",\"writes\",\"programming\",\"programs\",\"programmed\",\"history\"]"
   ]
  },
  {
   "cell_type": "markdown",
   "id": "b322227f",
   "metadata": {},
   "source": []
  },
  {
   "cell_type": "markdown",
   "id": "9e568abe",
   "metadata": {},
   "source": [
    "## Porter Stemmer"
   ]
  },
  {
   "cell_type": "code",
   "execution_count": 18,
   "id": "2e07e9bc",
   "metadata": {},
   "outputs": [],
   "source": [
    "from nltk.stem import PorterStemmer\n",
    "stemming = PorterStemmer()"
   ]
  },
  {
   "cell_type": "code",
   "execution_count": 19,
   "id": "f23ba1e7",
   "metadata": {},
   "outputs": [
    {
     "name": "stdout",
     "output_type": "stream",
     "text": [
      "eating ----> eat\n",
      "eats ----> eat\n",
      "eaten ----> eaten\n",
      "writing ----> write\n",
      "writes ----> write\n",
      "programming ----> program\n",
      "programs ----> program\n",
      "programmed ----> program\n",
      "history ----> histori\n"
     ]
    }
   ],
   "source": [
    "for word in words:\n",
    "    print(word + \" ----> \" + stemming.stem(word))"
   ]
  },
  {
   "cell_type": "markdown",
   "id": "36549b12",
   "metadata": {},
   "source": [
    "for the word history ----> histori there is no meaning to histori and this is the drawback of stemming."
   ]
  },
  {
   "cell_type": "code",
   "execution_count": 20,
   "id": "8cf9d1d7",
   "metadata": {},
   "outputs": [
    {
     "data": {
      "text/plain": [
       "'congralu'"
      ]
     },
     "execution_count": 20,
     "metadata": {},
     "output_type": "execute_result"
    }
   ],
   "source": [
    "stemming.stem('congraluations')"
   ]
  },
  {
   "cell_type": "markdown",
   "id": "95b24126",
   "metadata": {},
   "source": [
    "Here the meaning of the word is changed or irrelevent for the word congraluations."
   ]
  },
  {
   "cell_type": "code",
   "execution_count": 21,
   "id": "44471cb8",
   "metadata": {},
   "outputs": [
    {
     "data": {
      "text/plain": [
       "'sit'"
      ]
     },
     "execution_count": 21,
     "metadata": {},
     "output_type": "execute_result"
    }
   ],
   "source": [
    "stemming.stem(\"sitting\")"
   ]
  },
  {
   "cell_type": "markdown",
   "id": "9cfbe5ba",
   "metadata": {},
   "source": [
    "for most of the word stemming gives a accurate answer"
   ]
  },
  {
   "cell_type": "markdown",
   "id": "b73a6168",
   "metadata": {},
   "source": [
    "RegexpStemmer class"
   ]
  },
  {
   "cell_type": "code",
   "execution_count": 32,
   "id": "eeca4e7e",
   "metadata": {},
   "outputs": [],
   "source": [
    "from nltk.stem import RegexpStemmer\n",
    "reg_stemmer = RegexpStemmer('ing$|s$|e$|able$',min=4)"
   ]
  },
  {
   "cell_type": "code",
   "execution_count": 33,
   "id": "fcd96b82",
   "metadata": {},
   "outputs": [
    {
     "data": {
      "text/plain": [
       "'eat'"
      ]
     },
     "execution_count": 33,
     "metadata": {},
     "output_type": "execute_result"
    }
   ],
   "source": [
    "reg_stemmer.stem('eating')"
   ]
  },
  {
   "cell_type": "code",
   "execution_count": 34,
   "id": "a7fdd690",
   "metadata": {},
   "outputs": [
    {
     "data": {
      "text/plain": [
       "'ingeat'"
      ]
     },
     "execution_count": 34,
     "metadata": {},
     "output_type": "execute_result"
    }
   ],
   "source": [
    "reg_stemmer.stem('ingeating')"
   ]
  },
  {
   "cell_type": "markdown",
   "id": "0ea0338b",
   "metadata": {},
   "source": [
    "## Sonowball Stemmer"
   ]
  },
  {
   "cell_type": "code",
   "execution_count": 38,
   "id": "1febd10a",
   "metadata": {},
   "outputs": [],
   "source": [
    "# performas better than Porter Stemmer\n",
    "from nltk.stem import SnowballStemmer\n",
    "snowballstemmer = SnowballStemmer('english')"
   ]
  },
  {
   "cell_type": "code",
   "execution_count": 39,
   "id": "7a625f58",
   "metadata": {},
   "outputs": [
    {
     "name": "stdout",
     "output_type": "stream",
     "text": [
      "eating -----> eat\n",
      "eats -----> eat\n",
      "eaten -----> eaten\n",
      "writing -----> write\n",
      "writes -----> write\n",
      "programming -----> program\n",
      "programs -----> program\n",
      "programmed -----> program\n",
      "history -----> histori\n"
     ]
    }
   ],
   "source": [
    "for word in words:\n",
    "    print(word +\" -----> \" + snowballstemmer.stem(word))"
   ]
  },
  {
   "cell_type": "code",
   "execution_count": null,
   "id": "cad0c23a",
   "metadata": {},
   "outputs": [
    {
     "data": {
      "text/plain": [
       "('fairli', 'sportingli')"
      ]
     },
     "execution_count": 40,
     "metadata": {},
     "output_type": "execute_result"
    }
   ],
   "source": [
    "stemming.stem(\"fairly\"),stemming.stem(\"sportingly\") # Porter stemmer used"
   ]
  },
  {
   "cell_type": "code",
   "execution_count": null,
   "id": "43a9507a",
   "metadata": {},
   "outputs": [
    {
     "data": {
      "text/plain": [
       "('fair', 'sport')"
      ]
     },
     "execution_count": 41,
     "metadata": {},
     "output_type": "execute_result"
    }
   ],
   "source": [
    "snowballstemmer.stem(\"fairly\"),snowballstemmer.stem(\"sportingly\")  # SnowballStemmer used"
   ]
  },
  {
   "cell_type": "code",
   "execution_count": null,
   "id": "1b8e0e4e",
   "metadata": {},
   "outputs": [],
   "source": []
  }
 ],
 "metadata": {
  "kernelspec": {
   "display_name": "Python (myenv)",
   "language": "python",
   "name": "myenv"
  },
  "language_info": {
   "codemirror_mode": {
    "name": "ipython",
    "version": 3
   },
   "file_extension": ".py",
   "mimetype": "text/x-python",
   "name": "python",
   "nbconvert_exporter": "python",
   "pygments_lexer": "ipython3",
   "version": "3.13.5"
  }
 },
 "nbformat": 4,
 "nbformat_minor": 5
}
