{
 "cells": [
  {
   "cell_type": "markdown",
   "id": "909e1b64",
   "metadata": {},
   "source": [
    "## Lemmatization\n",
    "Lemmatization techenique is like stemming The output we get after lemmatization is called 'lemma' which is a root word rather thamn the root stem, the output of stemming . After lemmatization, we will be getting a valid word that means the same thing."
   ]
  },
  {
   "cell_type": "markdown",
   "id": "a45c9197",
   "metadata": {},
   "source": [
    "The main difference between stemming and lemmatization is that in stemming you just remove the prefix, suffix or the affixes to get the root word but this generates unmeaningful words many times but in lemmatization the word output not just removes the prefixes, suffixes or affixes but also adds meaning to that correct root word.\n"
   ]
  },
  {
   "cell_type": "code",
   "execution_count": 20,
   "id": "8bef73f2",
   "metadata": {},
   "outputs": [],
   "source": [
    "words = [\"eating\",\"eats\",\"eaten\",\"writing\",\"writes\",\"programming\",\"programs\",\"programmed\",\"history\"]"
   ]
  },
  {
   "cell_type": "code",
   "execution_count": 1,
   "id": "c45d8186",
   "metadata": {},
   "outputs": [],
   "source": [
    "from nltk.stem import WordNetLemmatizer\n",
    "lemmatizer = WordNetLemmatizer()"
   ]
  },
  {
   "cell_type": "code",
   "execution_count": 9,
   "id": "877015bb",
   "metadata": {},
   "outputs": [
    {
     "name": "stderr",
     "output_type": "stream",
     "text": [
      "[nltk_data] Downloading package wordnet to\n",
      "[nltk_data]     C:\\Users\\bprat\\AppData\\Roaming\\nltk_data...\n",
      "[nltk_data]   Package wordnet is already up-to-date!\n"
     ]
    },
    {
     "data": {
      "text/plain": [
       "True"
      ]
     },
     "execution_count": 9,
     "metadata": {},
     "output_type": "execute_result"
    }
   ],
   "source": [
    "import nltk\n",
    "nltk.download('wordnet')"
   ]
  },
  {
   "cell_type": "code",
   "execution_count": 15,
   "id": "431b4493",
   "metadata": {},
   "outputs": [
    {
     "data": {
      "text/plain": [
       "'going'"
      ]
     },
     "execution_count": 15,
     "metadata": {},
     "output_type": "execute_result"
    }
   ],
   "source": [
    "lemmatizer.lemmatize(\"going\",pos='n')"
   ]
  },
  {
   "cell_type": "code",
   "execution_count": null,
   "id": "30d8eeef",
   "metadata": {},
   "outputs": [
    {
     "data": {
      "text/plain": [
       "'go'"
      ]
     },
     "execution_count": 16,
     "metadata": {},
     "output_type": "execute_result"
    }
   ],
   "source": [
    "lemmatizer.lemmatize(\"going\",pos='v')"
   ]
  },
  {
   "cell_type": "code",
   "execution_count": 17,
   "id": "5135e691",
   "metadata": {},
   "outputs": [
    {
     "data": {
      "text/plain": [
       "'going'"
      ]
     },
     "execution_count": 17,
     "metadata": {},
     "output_type": "execute_result"
    }
   ],
   "source": [
    "lemmatizer.lemmatize(\"going\",pos='a')"
   ]
  },
  {
   "cell_type": "code",
   "execution_count": 18,
   "id": "22e3461d",
   "metadata": {},
   "outputs": [
    {
     "data": {
      "text/plain": [
       "'going'"
      ]
     },
     "execution_count": 18,
     "metadata": {},
     "output_type": "execute_result"
    }
   ],
   "source": [
    "lemmatizer.lemmatize(\"going\",pos='r')"
   ]
  },
  {
   "cell_type": "code",
   "execution_count": 22,
   "id": "6bf2df55",
   "metadata": {},
   "outputs": [
    {
     "name": "stdout",
     "output_type": "stream",
     "text": [
      "eating ----> eat\n",
      "eats ----> eat\n",
      "eaten ----> eat\n",
      "writing ----> write\n",
      "writes ----> write\n",
      "programming ----> program\n",
      "programs ----> program\n",
      "programmed ----> program\n",
      "history ----> history\n"
     ]
    }
   ],
   "source": [
    "for word in words:\n",
    "    print(word+\" ----> \"+lemmatizer.lemmatize(word,pos='v'))"
   ]
  },
  {
   "cell_type": "code",
   "execution_count": 23,
   "id": "7705d458",
   "metadata": {},
   "outputs": [
    {
     "name": "stdout",
     "output_type": "stream",
     "text": [
      "eating ----> eating\n",
      "eats ----> eats\n",
      "eaten ----> eaten\n",
      "writing ----> writing\n",
      "writes ----> writes\n",
      "programming ----> programming\n",
      "programs ----> program\n",
      "programmed ----> programmed\n",
      "history ----> history\n"
     ]
    }
   ],
   "source": [
    "for word in words:\n",
    "    print(word+\" ----> \"+lemmatizer.lemmatize(word,pos='n'))"
   ]
  },
  {
   "cell_type": "code",
   "execution_count": 24,
   "id": "22f7d857",
   "metadata": {},
   "outputs": [
    {
     "name": "stdout",
     "output_type": "stream",
     "text": [
      "eating ----> eating\n",
      "eats ----> eats\n",
      "eaten ----> eaten\n",
      "writing ----> writing\n",
      "writes ----> writes\n",
      "programming ----> programming\n",
      "programs ----> programs\n",
      "programmed ----> programmed\n",
      "history ----> history\n"
     ]
    }
   ],
   "source": [
    "for word in words:\n",
    "    print(word+\" ----> \"+lemmatizer.lemmatize(word,pos='a'))"
   ]
  },
  {
   "cell_type": "code",
   "execution_count": 25,
   "id": "8ba916db",
   "metadata": {},
   "outputs": [
    {
     "name": "stdout",
     "output_type": "stream",
     "text": [
      "eating ----> eating\n",
      "eats ----> eats\n",
      "eaten ----> eaten\n",
      "writing ----> writing\n",
      "writes ----> writes\n",
      "programming ----> programming\n",
      "programs ----> programs\n",
      "programmed ----> programmed\n",
      "history ----> history\n"
     ]
    }
   ],
   "source": [
    "for word in words:\n",
    "    print(word+\" ----> \"+lemmatizer.lemmatize(word,pos='r'))"
   ]
  },
  {
   "cell_type": "code",
   "execution_count": 30,
   "id": "aca49231",
   "metadata": {},
   "outputs": [
    {
     "data": {
      "text/plain": [
       "'sportingly'"
      ]
     },
     "execution_count": 30,
     "metadata": {},
     "output_type": "execute_result"
    }
   ],
   "source": [
    "lemmatizer.lemmatize(\"sportingly\",pos='a')"
   ]
  },
  {
   "cell_type": "code",
   "execution_count": null,
   "id": "1c484c61",
   "metadata": {},
   "outputs": [],
   "source": []
  }
 ],
 "metadata": {
  "kernelspec": {
   "display_name": "Python (myenv)",
   "language": "python",
   "name": "myenv"
  },
  "language_info": {
   "codemirror_mode": {
    "name": "ipython",
    "version": 3
   },
   "file_extension": ".py",
   "mimetype": "text/x-python",
   "name": "python",
   "nbconvert_exporter": "python",
   "pygments_lexer": "ipython3",
   "version": "3.13.5"
  }
 },
 "nbformat": 4,
 "nbformat_minor": 5
}
