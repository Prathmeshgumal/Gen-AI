{
  "cells": [
    {
      "cell_type": "code",
      "execution_count": 1,
      "metadata": {
        "colab": {
          "base_uri": "https://localhost:8080/"
        },
        "id": "j0DQFsavK0eZ",
        "outputId": "3dcf7e8c-e59c-4409-ecea-5aa6e8b9ce56"
      },
      "outputs": [
        {
          "name": "stdout",
          "output_type": "stream",
          "text": [
            "Requirement already satisfied: nltk in c:\\users\\bprat\\appdata\\local\\programs\\python\\python313\\lib\\site-packages (3.9.1)\n",
            "Requirement already satisfied: click in c:\\users\\bprat\\appdata\\local\\programs\\python\\python313\\lib\\site-packages (from nltk) (8.2.1)\n",
            "Requirement already satisfied: joblib in c:\\users\\bprat\\appdata\\local\\programs\\python\\python313\\lib\\site-packages (from nltk) (1.5.1)\n",
            "Requirement already satisfied: regex>=2021.8.3 in c:\\users\\bprat\\appdata\\local\\programs\\python\\python313\\lib\\site-packages (from nltk) (2025.7.34)\n",
            "Requirement already satisfied: tqdm in c:\\users\\bprat\\appdata\\local\\programs\\python\\python313\\lib\\site-packages (from nltk) (4.66.1)\n",
            "Requirement already satisfied: colorama in c:\\users\\bprat\\appdata\\local\\programs\\python\\python313\\lib\\site-packages (from click->nltk) (0.4.6)\n"
          ]
        }
      ],
      "source": [
        "!pip install nltk"
      ]
    },
    {
      "cell_type": "code",
      "execution_count": 3,
      "metadata": {
        "id": "PzicEkfbLCIC"
      },
      "outputs": [],
      "source": [
        "corpus = \"\"\"Hello, Welcome to my Website. \\nHow do you feel, are you motivated! \\nGet in touch with Prathmeshe's Team .\"\"\""
      ]
    },
    {
      "cell_type": "code",
      "execution_count": 4,
      "metadata": {
        "colab": {
          "base_uri": "https://localhost:8080/"
        },
        "id": "tEK9S3MRLO9a",
        "outputId": "a8a710a2-d2b4-4592-fdbe-a0a806a21473"
      },
      "outputs": [
        {
          "name": "stdout",
          "output_type": "stream",
          "text": [
            "Hello, Welcome to my Website. \n",
            "How do you feel, are you motivated! \n",
            "Get in touch with Prathmeshe's Team .\n"
          ]
        }
      ],
      "source": [
        "print(corpus)"
      ]
    },
    {
      "cell_type": "code",
      "execution_count": 5,
      "metadata": {
        "colab": {
          "base_uri": "https://localhost:8080/"
        },
        "id": "OrghNyexL3kq",
        "outputId": "925802a3-445e-471f-c7eb-19e89bbcd709"
      },
      "outputs": [
        {
          "name": "stderr",
          "output_type": "stream",
          "text": [
            "[nltk_data] Downloading package punkt_tab to\n",
            "[nltk_data]     C:\\Users\\bprat\\AppData\\Roaming\\nltk_data...\n",
            "[nltk_data]   Unzipping tokenizers\\punkt_tab.zip.\n"
          ]
        },
        {
          "data": {
            "text/plain": [
              "True"
            ]
          },
          "execution_count": 5,
          "metadata": {},
          "output_type": "execute_result"
        }
      ],
      "source": [
        "import nltk\n",
        "nltk.download('punkt_tab')"
      ]
    },
    {
      "cell_type": "code",
      "execution_count": 6,
      "metadata": {
        "id": "eQnKTf7QLZ6l"
      },
      "outputs": [],
      "source": [
        "## convetring sentence into paragraph\n",
        "## paragrapg --> sentence\n",
        "from nltk.tokenize import sent_tokenize"
      ]
    },
    {
      "cell_type": "code",
      "execution_count": 7,
      "metadata": {
        "colab": {
          "base_uri": "https://localhost:8080/"
        },
        "id": "U1zaS8nXLt0k",
        "outputId": "50ec02c8-6813-46d6-d50a-ab3a389a85a5"
      },
      "outputs": [
        {
          "data": {
            "text/plain": [
              "['Hello, Welcome to my Website.',\n",
              " 'How do you feel, are you motivated!',\n",
              " \"Get in touch with Prathmeshe's Team .\"]"
            ]
          },
          "execution_count": 7,
          "metadata": {},
          "output_type": "execute_result"
        }
      ],
      "source": [
        "sent_tokenize(corpus)"
      ]
    },
    {
      "cell_type": "code",
      "execution_count": 8,
      "metadata": {
        "colab": {
          "base_uri": "https://localhost:8080/"
        },
        "id": "eD6o8pGKMfuJ",
        "outputId": "d6558b51-2755-4eb1-edb8-3f8677561361"
      },
      "outputs": [
        {
          "name": "stdout",
          "output_type": "stream",
          "text": [
            "Hello, Welcome to my Website.\n",
            "How do you feel, are you motivated!\n",
            "Get in touch with Prathmeshe's Team .\n"
          ]
        }
      ],
      "source": [
        "for i in sent_tokenize(corpus):\n",
        "  print(i)"
      ]
    },
    {
      "cell_type": "code",
      "execution_count": 9,
      "metadata": {
        "id": "ZWEl3syQL8-s"
      },
      "outputs": [],
      "source": [
        "doc1 = sent_tokenize(corpus)[0]"
      ]
    },
    {
      "cell_type": "code",
      "execution_count": 10,
      "metadata": {
        "colab": {
          "base_uri": "https://localhost:8080/"
        },
        "id": "jyaLzVyxMMdB",
        "outputId": "6969c07c-59b4-405b-c810-62a66933f129"
      },
      "outputs": [
        {
          "name": "stdout",
          "output_type": "stream",
          "text": [
            "Hello, Welcome to my Website.\n"
          ]
        }
      ],
      "source": [
        "print(doc1)"
      ]
    },
    {
      "cell_type": "code",
      "execution_count": 11,
      "metadata": {
        "id": "GIexsVYeMQkq"
      },
      "outputs": [],
      "source": [
        "## sentence to word\n",
        "## sentence  --> Word\n",
        "\n",
        "from nltk.tokenize import word_tokenize"
      ]
    },
    {
      "cell_type": "code",
      "execution_count": 12,
      "metadata": {
        "colab": {
          "base_uri": "https://localhost:8080/"
        },
        "id": "x4zbiZW_NHkT",
        "outputId": "9e60eb0d-c3fe-4685-b9df-998ae0b94f9c"
      },
      "outputs": [
        {
          "data": {
            "text/plain": [
              "['Hello', ',', 'Welcome', 'to', 'my', 'Website', '.']"
            ]
          },
          "execution_count": 12,
          "metadata": {},
          "output_type": "execute_result"
        }
      ],
      "source": [
        "word_tokenize(doc1)   # sentence --> word"
      ]
    },
    {
      "cell_type": "code",
      "execution_count": 13,
      "metadata": {
        "colab": {
          "base_uri": "https://localhost:8080/"
        },
        "id": "rrVc289eNN9N",
        "outputId": "f6aeee3b-f3d2-4a7f-8a8f-1f09bdd98400"
      },
      "outputs": [
        {
          "data": {
            "text/plain": [
              "['Hello',\n",
              " ',',\n",
              " 'Welcome',\n",
              " 'to',\n",
              " 'my',\n",
              " 'Website',\n",
              " '.',\n",
              " 'How',\n",
              " 'do',\n",
              " 'you',\n",
              " 'feel',\n",
              " ',',\n",
              " 'are',\n",
              " 'you',\n",
              " 'motivated',\n",
              " '!',\n",
              " 'Get',\n",
              " 'in',\n",
              " 'touch',\n",
              " 'with',\n",
              " 'Prathmeshe',\n",
              " \"'s\",\n",
              " 'Team',\n",
              " '.']"
            ]
          },
          "execution_count": 13,
          "metadata": {},
          "output_type": "execute_result"
        }
      ],
      "source": [
        "word_tokenize(corpus)   # paragraph --> word"
      ]
    },
    {
      "cell_type": "code",
      "execution_count": 14,
      "metadata": {
        "id": "s1d_CWd7NRfb"
      },
      "outputs": [],
      "source": [
        "## using some another library\n",
        "from nltk.tokenize import wordpunct_tokenize"
      ]
    },
    {
      "cell_type": "code",
      "execution_count": 15,
      "metadata": {
        "colab": {
          "base_uri": "https://localhost:8080/"
        },
        "id": "ks-OXar_N3PY",
        "outputId": "5f9682cd-c6b4-45ff-a2d5-9252bc9ba1cf"
      },
      "outputs": [
        {
          "data": {
            "text/plain": [
              "['Hello',\n",
              " ',',\n",
              " 'Welcome',\n",
              " 'to',\n",
              " 'my',\n",
              " 'Website',\n",
              " '.',\n",
              " 'How',\n",
              " 'do',\n",
              " 'you',\n",
              " 'feel',\n",
              " ',',\n",
              " 'are',\n",
              " 'you',\n",
              " 'motivated',\n",
              " '!',\n",
              " 'Get',\n",
              " 'in',\n",
              " 'touch',\n",
              " 'with',\n",
              " 'Prathmeshe',\n",
              " \"'\",\n",
              " 's',\n",
              " 'Team',\n",
              " '.']"
            ]
          },
          "execution_count": 15,
          "metadata": {},
          "output_type": "execute_result"
        }
      ],
      "source": [
        "wordpunct_tokenize(corpus)   # splits the 's also."
      ]
    },
    {
      "cell_type": "code",
      "execution_count": 16,
      "metadata": {
        "id": "sLebDTpQOBX7"
      },
      "outputs": [],
      "source": [
        "from nltk.tokenize import TreebankWordTokenizer\n",
        "tokenizer = TreebankWordTokenizer()"
      ]
    },
    {
      "cell_type": "code",
      "execution_count": 17,
      "metadata": {
        "colab": {
          "base_uri": "https://localhost:8080/"
        },
        "id": "CP0Hndq5ONYG",
        "outputId": "7d95e860-3d2a-4a00-ea6c-1a0405854125"
      },
      "outputs": [
        {
          "data": {
            "text/plain": [
              "['Hello',\n",
              " ',',\n",
              " 'Welcome',\n",
              " 'to',\n",
              " 'my',\n",
              " 'Website.',\n",
              " 'How',\n",
              " 'do',\n",
              " 'you',\n",
              " 'feel',\n",
              " ',',\n",
              " 'are',\n",
              " 'you',\n",
              " 'motivated',\n",
              " '!',\n",
              " 'Get',\n",
              " 'in',\n",
              " 'touch',\n",
              " 'with',\n",
              " 'Prathmeshe',\n",
              " \"'s\",\n",
              " 'Team',\n",
              " '.']"
            ]
          },
          "execution_count": 17,
          "metadata": {},
          "output_type": "execute_result"
        }
      ],
      "source": [
        "tokenizer.tokenize(corpus)"
      ]
    },
    {
      "cell_type": "markdown",
      "metadata": {},
      "source": [
        "Explore Spacy and find the difference"
      ]
    },
    {
      "cell_type": "markdown",
      "metadata": {},
      "source": []
    }
  ],
  "metadata": {
    "colab": {
      "provenance": []
    },
    "kernelspec": {
      "display_name": "Python (myenv)",
      "language": "python",
      "name": "myenv"
    },
    "language_info": {
      "codemirror_mode": {
        "name": "ipython",
        "version": 3
      },
      "file_extension": ".py",
      "mimetype": "text/x-python",
      "name": "python",
      "nbconvert_exporter": "python",
      "pygments_lexer": "ipython3",
      "version": "3.13.5"
    }
  },
  "nbformat": 4,
  "nbformat_minor": 0
}
