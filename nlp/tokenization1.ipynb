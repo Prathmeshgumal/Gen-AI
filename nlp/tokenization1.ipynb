{
  "nbformat": 4,
  "nbformat_minor": 0,
  "metadata": {
    "colab": {
      "provenance": []
    },
    "kernelspec": {
      "name": "python3",
      "display_name": "Python 3"
    },
    "language_info": {
      "name": "python"
    }
  },
  "cells": [
    {
      "cell_type": "code",
      "source": [
        "!pip install nltk"
      ],
      "metadata": {
        "colab": {
          "base_uri": "https://localhost:8080/"
        },
        "id": "j0DQFsavK0eZ",
        "outputId": "3dcf7e8c-e59c-4409-ecea-5aa6e8b9ce56"
      },
      "execution_count": 1,
      "outputs": [
        {
          "output_type": "stream",
          "name": "stdout",
          "text": [
            "Requirement already satisfied: nltk in /usr/local/lib/python3.11/dist-packages (3.9.1)\n",
            "Requirement already satisfied: click in /usr/local/lib/python3.11/dist-packages (from nltk) (8.2.1)\n",
            "Requirement already satisfied: joblib in /usr/local/lib/python3.11/dist-packages (from nltk) (1.5.1)\n",
            "Requirement already satisfied: regex>=2021.8.3 in /usr/local/lib/python3.11/dist-packages (from nltk) (2024.11.6)\n",
            "Requirement already satisfied: tqdm in /usr/local/lib/python3.11/dist-packages (from nltk) (4.67.1)\n"
          ]
        }
      ]
    },
    {
      "cell_type": "code",
      "source": [
        "corpus = \"\"\"Hello, Welcome to my Website. \\nHow do you feel, are you motivated! \\nGet in touch with Prathmeshe's Team .\"\"\""
      ],
      "metadata": {
        "id": "PzicEkfbLCIC"
      },
      "execution_count": 45,
      "outputs": []
    },
    {
      "cell_type": "code",
      "source": [
        "print(corpus)"
      ],
      "metadata": {
        "colab": {
          "base_uri": "https://localhost:8080/"
        },
        "id": "tEK9S3MRLO9a",
        "outputId": "a8a710a2-d2b4-4592-fdbe-a0a806a21473"
      },
      "execution_count": 46,
      "outputs": [
        {
          "output_type": "stream",
          "name": "stdout",
          "text": [
            "Hello, Welcome to my Website. \n",
            "How do you feel, are you motivated! \n",
            "Get in touch with Prathmeshe's Team .\n"
          ]
        }
      ]
    },
    {
      "cell_type": "code",
      "source": [
        "import nltk\n",
        "nltk.download('punkt_tab')"
      ],
      "metadata": {
        "colab": {
          "base_uri": "https://localhost:8080/"
        },
        "id": "OrghNyexL3kq",
        "outputId": "925802a3-445e-471f-c7eb-19e89bbcd709"
      },
      "execution_count": 47,
      "outputs": [
        {
          "output_type": "stream",
          "name": "stderr",
          "text": [
            "[nltk_data] Downloading package punkt_tab to /root/nltk_data...\n",
            "[nltk_data]   Package punkt_tab is already up-to-date!\n"
          ]
        },
        {
          "output_type": "execute_result",
          "data": {
            "text/plain": [
              "True"
            ]
          },
          "metadata": {},
          "execution_count": 47
        }
      ]
    },
    {
      "cell_type": "code",
      "source": [
        "## convetring sentence into paragraph\n",
        "## paragrapg --> sentence\n",
        "from nltk.tokenize import sent_tokenize"
      ],
      "metadata": {
        "id": "eQnKTf7QLZ6l"
      },
      "execution_count": 48,
      "outputs": []
    },
    {
      "cell_type": "code",
      "source": [
        "sent_tokenize(corpus)"
      ],
      "metadata": {
        "colab": {
          "base_uri": "https://localhost:8080/"
        },
        "id": "U1zaS8nXLt0k",
        "outputId": "50ec02c8-6813-46d6-d50a-ab3a389a85a5"
      },
      "execution_count": 49,
      "outputs": [
        {
          "output_type": "execute_result",
          "data": {
            "text/plain": [
              "['Hello, Welcome to my Website.',\n",
              " 'How do you feel, are you motivated!',\n",
              " \"Get in touch with Prathmeshe's Team .\"]"
            ]
          },
          "metadata": {},
          "execution_count": 49
        }
      ]
    },
    {
      "cell_type": "code",
      "source": [
        "for i in sent_tokenize(corpus):\n",
        "  print(i)"
      ],
      "metadata": {
        "colab": {
          "base_uri": "https://localhost:8080/"
        },
        "id": "eD6o8pGKMfuJ",
        "outputId": "d6558b51-2755-4eb1-edb8-3f8677561361"
      },
      "execution_count": 50,
      "outputs": [
        {
          "output_type": "stream",
          "name": "stdout",
          "text": [
            "Hello, Welcome to my Website.\n",
            "How do you feel, are you motivated!\n",
            "Get in touch with Prathmeshe's Team .\n"
          ]
        }
      ]
    },
    {
      "cell_type": "code",
      "source": [
        "doc1 = sent_tokenize(corpus)[0]"
      ],
      "metadata": {
        "id": "ZWEl3syQL8-s"
      },
      "execution_count": 51,
      "outputs": []
    },
    {
      "cell_type": "code",
      "source": [
        "print(doc1)"
      ],
      "metadata": {
        "colab": {
          "base_uri": "https://localhost:8080/"
        },
        "id": "jyaLzVyxMMdB",
        "outputId": "6969c07c-59b4-405b-c810-62a66933f129"
      },
      "execution_count": 52,
      "outputs": [
        {
          "output_type": "stream",
          "name": "stdout",
          "text": [
            "Hello, Welcome to my Website.\n"
          ]
        }
      ]
    },
    {
      "cell_type": "code",
      "source": [
        "## sentence to word\n",
        "## sentence  --> Word\n",
        "\n",
        "from nltk.tokenize import word_tokenize"
      ],
      "metadata": {
        "id": "GIexsVYeMQkq"
      },
      "execution_count": 53,
      "outputs": []
    },
    {
      "cell_type": "code",
      "source": [
        "word_tokenize(doc1)   # sentence --> word"
      ],
      "metadata": {
        "colab": {
          "base_uri": "https://localhost:8080/"
        },
        "id": "x4zbiZW_NHkT",
        "outputId": "9e60eb0d-c3fe-4685-b9df-998ae0b94f9c"
      },
      "execution_count": 54,
      "outputs": [
        {
          "output_type": "execute_result",
          "data": {
            "text/plain": [
              "['Hello', ',', 'Welcome', 'to', 'my', 'Website', '.']"
            ]
          },
          "metadata": {},
          "execution_count": 54
        }
      ]
    },
    {
      "cell_type": "code",
      "source": [
        "word_tokenize(corpus)   # paragraph --> word"
      ],
      "metadata": {
        "colab": {
          "base_uri": "https://localhost:8080/"
        },
        "id": "rrVc289eNN9N",
        "outputId": "f6aeee3b-f3d2-4a7f-8a8f-1f09bdd98400"
      },
      "execution_count": 55,
      "outputs": [
        {
          "output_type": "execute_result",
          "data": {
            "text/plain": [
              "['Hello',\n",
              " ',',\n",
              " 'Welcome',\n",
              " 'to',\n",
              " 'my',\n",
              " 'Website',\n",
              " '.',\n",
              " 'How',\n",
              " 'do',\n",
              " 'you',\n",
              " 'feel',\n",
              " ',',\n",
              " 'are',\n",
              " 'you',\n",
              " 'motivated',\n",
              " '!',\n",
              " 'Get',\n",
              " 'in',\n",
              " 'touch',\n",
              " 'with',\n",
              " 'Prathmeshe',\n",
              " \"'s\",\n",
              " 'Team',\n",
              " '.']"
            ]
          },
          "metadata": {},
          "execution_count": 55
        }
      ]
    },
    {
      "cell_type": "code",
      "source": [
        "## using some another library\n",
        "from nltk.tokenize import wordpunct_tokenize"
      ],
      "metadata": {
        "id": "s1d_CWd7NRfb"
      },
      "execution_count": 56,
      "outputs": []
    },
    {
      "cell_type": "code",
      "source": [
        "wordpunct_tokenize(corpus)   # splits the 's also."
      ],
      "metadata": {
        "colab": {
          "base_uri": "https://localhost:8080/"
        },
        "id": "ks-OXar_N3PY",
        "outputId": "5f9682cd-c6b4-45ff-a2d5-9252bc9ba1cf"
      },
      "execution_count": 42,
      "outputs": [
        {
          "output_type": "execute_result",
          "data": {
            "text/plain": [
              "['Hello',\n",
              " ',',\n",
              " 'Wlcome',\n",
              " 'to',\n",
              " 'my',\n",
              " 'Website',\n",
              " '.',\n",
              " 'How',\n",
              " 'do',\n",
              " 'you',\n",
              " 'feel',\n",
              " ',',\n",
              " 'are',\n",
              " 'you',\n",
              " 'motivated',\n",
              " '!',\n",
              " 'Get',\n",
              " 'in',\n",
              " 'touch',\n",
              " 'with',\n",
              " 'Prathmeshe',\n",
              " \"'\",\n",
              " 's',\n",
              " 'Team',\n",
              " '.']"
            ]
          },
          "metadata": {},
          "execution_count": 42
        }
      ]
    },
    {
      "cell_type": "code",
      "source": [
        "from nltk.tokenize import TreebankWordTokenizer\n",
        "tokenizer = TreebankWordTokenizer()"
      ],
      "metadata": {
        "id": "sLebDTpQOBX7"
      },
      "execution_count": 43,
      "outputs": []
    },
    {
      "cell_type": "code",
      "source": [
        "tokenizer.tokenize(corpus)"
      ],
      "metadata": {
        "colab": {
          "base_uri": "https://localhost:8080/"
        },
        "id": "CP0Hndq5ONYG",
        "outputId": "7d95e860-3d2a-4a00-ea6c-1a0405854125"
      },
      "execution_count": 44,
      "outputs": [
        {
          "output_type": "execute_result",
          "data": {
            "text/plain": [
              "['Hello',\n",
              " ',',\n",
              " 'Wlcome',\n",
              " 'to',\n",
              " 'my',\n",
              " 'Website.',\n",
              " 'How',\n",
              " 'do',\n",
              " 'you',\n",
              " 'feel',\n",
              " ',',\n",
              " 'are',\n",
              " 'you',\n",
              " 'motivated',\n",
              " '!',\n",
              " 'Get',\n",
              " 'in',\n",
              " 'touch',\n",
              " 'with',\n",
              " 'Prathmeshe',\n",
              " \"'s\",\n",
              " 'Team',\n",
              " '.']"
            ]
          },
          "metadata": {},
          "execution_count": 44
        }
      ]
    },
    {
      "cell_type": "code",
      "source": [],
      "metadata": {
        "id": "3UUE_vmROV6g"
      },
      "execution_count": null,
      "outputs": []
    }
  ]
}